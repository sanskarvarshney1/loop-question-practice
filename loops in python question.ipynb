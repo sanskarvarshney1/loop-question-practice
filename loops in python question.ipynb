{
 "cells": [
  {
   "cell_type": "code",
   "execution_count": 4,
   "id": "3750c853-e316-4d65-bc44-36a37921fced",
   "metadata": {},
   "outputs": [
    {
     "name": "stdout",
     "output_type": "stream",
     "text": [
      "2 3 4 5 6 7 "
     ]
    }
   ],
   "source": [
    "#Q1. Explain with example when to use for loop and while loop\n",
    "# For loop:  when we know how iteration need to be done\n",
    "\n",
    "#print 1 to 100\n",
    "for i in range(1,7):\n",
    "    i = i+1\n",
    "    print(i , end = ' ')"
   ]
  },
  {
   "cell_type": "code",
   "execution_count": 5,
   "id": "7fc40126-b0df-4dd0-9550-3adcf605b0bc",
   "metadata": {},
   "outputs": [
    {
     "name": "stdin",
     "output_type": "stream",
     "text": [
      " Do you waant yto start y/n ? n\n"
     ]
    }
   ],
   "source": [
    "# while loop: When we don't know how many times we need to do the iteartion\n",
    "ex = input(\" Do you waant yto start y/n ?\")\n",
    "#make the condition\n",
    "while ex!='n':\n",
    "    ex= input('Type n if you wnat to close the game?')\n",
    "    while ex==\"n\": # create the 2nd condition\n",
    "        break # break the while loop if user watns to close\n",
    "    else:\n",
    "        print()\n",
    "        print()\n",
    "        print(\"hello world\\n\\n\\n Welcome to while loop\")\n",
    "        print()\n"
   ]
  },
  {
   "cell_type": "code",
   "execution_count": 6,
   "id": "f466e506-084b-4d78-8d79-7e44984a4657",
   "metadata": {},
   "outputs": [
    {
     "name": "stdout",
     "output_type": "stream",
     "text": [
      "55\n"
     ]
    }
   ],
   "source": [
    "#Q2. Get sum of first 10 natural numbers using while and for loops:\n",
    "c = 0\n",
    "d=0\n",
    "while c<1:\n",
    "    for i in range(1,11):\n",
    "        d=d+i\n",
    "        c=c+1\n",
    "    print(d)"
   ]
  },
  {
   "cell_type": "code",
   "execution_count": 7,
   "id": "ac2834b7-b2ed-4b5b-bb3b-547d04c52d5e",
   "metadata": {},
   "outputs": [
    {
     "name": "stdin",
     "output_type": "stream",
     "text": [
      "Enter the bill unit: 310\n"
     ]
    },
    {
     "name": "stdout",
     "output_type": "stream",
     "text": [
      "\n",
      "The bill for UNITS '310' is '2250.0' ruppes only\n"
     ]
    }
   ],
   "source": [
    "#Q3. Create a python program to compute the electricity bill for a household.\n",
    "#The per-unit charges in rupees are as follows: For the first 100 units, the user will be charged Rs. 4.5 per unit, for the next 100 units, the user will be charged Rs. 6 per unit, and for the next 100 units, the user will be charged Rs. 10 per unit, After 300 units and above the user will be charged Rs. 20 per unit. You are required to take the units of electricity consumed in a month from the user as input. Your program must pass this test case: when the unit of electricity consumed by the user in a month is 310, the total electricity bill should be 2250.\n",
    "\n",
    "unit = int(input(\"Enter the bill unit:\"))\n",
    "print()\n",
    "\n",
    "if unit<=100:\n",
    "    amount = unit*4.5\n",
    "    \n",
    "elif unit>100 and unit<=200:\n",
    "    amount=(100*4.5)+((unit-100)*6)\n",
    "    \n",
    "elif unit>200 and unit<=300:\n",
    "    amount=(100*4.5)+(100*6)+((unit-200)*10)\n",
    "\n",
    "elif unit>300:\n",
    "    amount= (100*4.5)+(100*6)+(100*10)+((unit-300)*20)\n",
    "print (f\"The bill for UNITS '{unit}' is '{amount}' ruppes only\")\n",
    "\n",
    "    \n",
    "    \n"
   ]
  },
  {
   "cell_type": "code",
   "execution_count": 17,
   "id": "2639e6e9-8808-4a5c-aad0-ac182a034bee",
   "metadata": {},
   "outputs": [
    {
     "name": "stdout",
     "output_type": "stream",
     "text": [
      "[8, 64, 125, 216, 512, 1000, 1728, 2744, 3375, 4096, 5832, 8000, 10648, 13824, 15625, 17576, 21952, 27000, 32768, 39304, 42875, 46656, 54872, 64000, 74088, 85184, 91125, 97336, 110592, 125000, 140608, 157464, 166375, 175616, 195112, 216000, 238328, 262144, 274625, 287496, 314432, 343000, 373248, 405224, 421875, 438976, 474552, 512000, 551368, 592704, 614125, 636056, 681472, 729000, 778688, 830584, 857375, 884736, 941192, 1000000]\n"
     ]
    }
   ],
   "source": [
    "#Q4. Create a list of numbers from 1 to 100. Use for loop and while loop to calculate the cube of each number and if the cube of that number is divisible by 4 or 5 then append that number in a list and print that list.\n",
    "l1=list(range(1,101))\n",
    "\n",
    "\n",
    "l2=[(n**3) for n in l1]\n",
    "l3=[]\n",
    "for i in l2:\n",
    "    if i%4==0 or i%5==0:\n",
    "        l3.append(i)\n",
    "print(l3)"
   ]
  },
  {
   "cell_type": "code",
   "execution_count": 19,
   "id": "c97e7aaa-56f9-422c-861b-48a5660ef83b",
   "metadata": {},
   "outputs": [
    {
     "data": {
      "text/plain": [
       "12"
      ]
     },
     "execution_count": 19,
     "metadata": {},
     "output_type": "execute_result"
    }
   ],
   "source": [
    "#Q5. Write a program to filter count vowels in the below-given string. string = \"I want to become a data scientist\"\n",
    "v =\"aeiou\"\n",
    "s = \" I want to become a data scientist\"\n",
    "s1 = s.lower()\n",
    "vc = []\n",
    "for i in s1:\n",
    "    if i in v:\n",
    "        vc.append(i)\n",
    "len(vc)"
   ]
  },
  {
   "cell_type": "code",
   "execution_count": null,
   "id": "19648f80-7489-4fe8-9456-03a6d0dc0d4b",
   "metadata": {},
   "outputs": [],
   "source": []
  }
 ],
 "metadata": {
  "kernelspec": {
   "display_name": "Python 3 (ipykernel)",
   "language": "python",
   "name": "python3"
  },
  "language_info": {
   "codemirror_mode": {
    "name": "ipython",
    "version": 3
   },
   "file_extension": ".py",
   "mimetype": "text/x-python",
   "name": "python",
   "nbconvert_exporter": "python",
   "pygments_lexer": "ipython3",
   "version": "3.10.8"
  }
 },
 "nbformat": 4,
 "nbformat_minor": 5
}
