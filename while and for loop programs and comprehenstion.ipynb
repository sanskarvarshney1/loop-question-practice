{
 "cells": [
  {
   "cell_type": "code",
   "execution_count": 1,
   "id": "84832234-cb8c-45cb-947e-f6b2561db5fc",
   "metadata": {},
   "outputs": [
    {
     "name": "stdout",
     "output_type": "stream",
     "text": [
      "1\n",
      "2\n",
      "3\n",
      "4\n",
      "5\n",
      "6\n",
      "7\n",
      "8\n",
      "9\n",
      "10\n"
     ]
    }
   ],
   "source": [
    "a = 1\n",
    "\n",
    "while a <= 10:\n",
    "    print(a)\n",
    "    a = a+1"
   ]
  },
  {
   "cell_type": "markdown",
   "id": "6e284ddb-7726-4939-b9d5-363336f8f371",
   "metadata": {},
   "source": [
    "#sum of the nummber till some point"
   ]
  },
  {
   "cell_type": "code",
   "execution_count": 5,
   "id": "e351ee53-9aed-4239-838e-b8558c4c0d3d",
   "metadata": {},
   "outputs": [
    {
     "name": "stdin",
     "output_type": "stream",
     "text": [
      "enter your limit 60\n"
     ]
    },
    {
     "data": {
      "text/plain": [
       "1830"
      ]
     },
     "execution_count": 5,
     "metadata": {},
     "output_type": "execute_result"
    }
   ],
   "source": [
    "n = int(input(\"enter your limit\"))\n",
    "starting_point = 0\n",
    "counter = 1\n",
    "while counter <= n:\n",
    "              starting_point = starting_point + counter\n",
    "              counter = counter +1\n",
    "starting_point"
   ]
  },
  {
   "cell_type": "markdown",
   "id": "f5044591-ac49-43ba-816a-dd5f27e46506",
   "metadata": {},
   "source": [
    "# factorial"
   ]
  },
  {
   "cell_type": "code",
   "execution_count": 1,
   "id": "a21a1c4d-8c4d-42aa-9ad7-5f31030f8dd8",
   "metadata": {},
   "outputs": [
    {
     "name": "stdin",
     "output_type": "stream",
     "text": [
      "enter yourr number 34\n"
     ]
    },
    {
     "data": {
      "text/plain": [
       "295232799039604140847618609643520000000"
      ]
     },
     "execution_count": 1,
     "metadata": {},
     "output_type": "execute_result"
    }
   ],
   "source": [
    "number = int(input(\"enter yourr number\"))\n",
    "factorial = 1\n",
    "while number > 0:\n",
    "    factorial = factorial*number\n",
    "    number = number - 1\n",
    "factorial\n"
   ]
  },
  {
   "cell_type": "markdown",
   "id": "506a0e58-96ee-41a4-bd66-9e045eb48931",
   "metadata": {},
   "source": [
    "# finonacci series"
   ]
  },
  {
   "cell_type": "code",
   "execution_count": 10,
   "id": "cf263c2d-03e5-4510-af0a-37f4b094ba3f",
   "metadata": {},
   "outputs": [
    {
     "name": "stdin",
     "output_type": "stream",
     "text": [
      "enter the number of element you are looking for  5\n"
     ]
    },
    {
     "name": "stdout",
     "output_type": "stream",
     "text": [
      "0\n",
      "1\n",
      "1\n",
      "2\n",
      "3\n"
     ]
    }
   ],
   "source": [
    "number = int(input(\"enter the number of element you are looking for \"))\n",
    "a , b  = 0 , 1 \n",
    "counter = 0 \n",
    "while counter < number : \n",
    "    print(a)\n",
    "    c = a+ b\n",
    "    a = b \n",
    "    b = c \n",
    "    counter= counter+ 1\n",
    "    "
   ]
  },
  {
   "cell_type": "code",
   "execution_count": 17,
   "id": "42c2166d-ca60-48a2-ae87-c118feb79a8b",
   "metadata": {},
   "outputs": [
    {
     "name": "stdout",
     "output_type": "stream",
     "text": [
      "0\n",
      "1\n",
      "1\n",
      "2\n",
      "3\n",
      "5\n",
      "8\n",
      "13\n",
      "21\n",
      "34\n",
      "55\n",
      "89\n",
      "144\n",
      "233\n",
      "377\n",
      "610\n",
      "987\n",
      "1597\n",
      "2584\n",
      "4181\n",
      "6765\n",
      "10946\n",
      "17711\n",
      "28657\n",
      "46368\n",
      "75025\n",
      "121393\n",
      "196418\n",
      "317811\n",
      "514229\n"
     ]
    }
   ],
   "source": [
    "a , b = 0,1\n",
    "for i in range(30):\n",
    "    print(a)\n",
    "    c = a+b\n",
    "    a=b\n",
    "    b=c\n"
   ]
  },
  {
   "cell_type": "code",
   "execution_count": 18,
   "id": "fbbc5e30-176b-4752-bb75-c242cb0141fb",
   "metadata": {},
   "outputs": [],
   "source": [
    "a = \"sudh\""
   ]
  },
  {
   "cell_type": "code",
   "execution_count": 21,
   "id": "7ef4df7a-ff96-4b8b-be51-79a4cac13703",
   "metadata": {},
   "outputs": [
    {
     "data": {
      "text/plain": [
       "'hdus'"
      ]
     },
     "execution_count": 21,
     "metadata": {},
     "output_type": "execute_result"
    }
   ],
   "source": [
    "a[::-1]"
   ]
  },
  {
   "cell_type": "code",
   "execution_count": 26,
   "id": "0c82d392-5b03-4ccd-a6ae-22b0ded76d28",
   "metadata": {},
   "outputs": [
    {
     "data": {
      "text/plain": [
       "'sh'"
      ]
     },
     "execution_count": 26,
     "metadata": {},
     "output_type": "execute_result"
    }
   ],
   "source": [
    "a[::3]"
   ]
  },
  {
   "cell_type": "markdown",
   "id": "3580cd10-eb51-49c0-ab16-1d2d0b2c5d74",
   "metadata": {},
   "source": [
    "# REVERSE BY STRING"
   ]
  },
  {
   "cell_type": "code",
   "execution_count": 28,
   "id": "c6ca9adb-64cf-469a-af10-45feb8f0649f",
   "metadata": {},
   "outputs": [
    {
     "name": "stdin",
     "output_type": "stream",
     "text": [
      "enter your string for reverse sanskar\n"
     ]
    }
   ],
   "source": [
    "word = input(\"enter your string for reverse\")"
   ]
  },
  {
   "cell_type": "code",
   "execution_count": 29,
   "id": "125737ad-d087-45e8-9819-9f5c64137792",
   "metadata": {},
   "outputs": [
    {
     "name": "stdout",
     "output_type": "stream",
     "text": [
      "raksnas\n"
     ]
    }
   ],
   "source": [
    "reverse = ''\n",
    "lenght = len(word)\n",
    "while lenght > 0:\n",
    "    reverse = reverse + word[lenght -1]\n",
    "    lenght = lenght -1\n",
    "print(reverse)\n"
   ]
  },
  {
   "cell_type": "markdown",
   "id": "b9ac57cf-3612-4b9b-a459-e891c759e4d1",
   "metadata": {},
   "source": [
    "# print tabales of number"
   ]
  },
  {
   "cell_type": "code",
   "execution_count": 30,
   "id": "c63b5923-fe91-44f2-9306-665d040caa1d",
   "metadata": {},
   "outputs": [
    {
     "name": "stdin",
     "output_type": "stream",
     "text": [
      "enter your nuumber 9\n"
     ]
    },
    {
     "name": "stdout",
     "output_type": "stream",
     "text": [
      "9 * 1 = 9\n",
      "9 * 2 = 18\n",
      "9 * 3 = 27\n",
      "9 * 4 = 36\n",
      "9 * 5 = 45\n",
      "9 * 6 = 54\n",
      "9 * 7 = 63\n",
      "9 * 8 = 72\n",
      "9 * 9 = 81\n",
      "9 * 10 = 90\n"
     ]
    }
   ],
   "source": [
    "n = int(input(\"enter your nuumber\"))\n",
    "i = 1\n",
    "while i <= 10:\n",
    "    result = n*i\n",
    "    print(n,\"*\" , i,\"=\" , result)\n",
    "    i = i+1\n"
   ]
  },
  {
   "cell_type": "code",
   "execution_count": 34,
   "id": "65780d77-dbd6-4c80-bcd8-f27594cca9db",
   "metadata": {},
   "outputs": [
    {
     "name": "stdin",
     "output_type": "stream",
     "text": [
      "enter your nuumber 10\n"
     ]
    },
    {
     "name": "stdout",
     "output_type": "stream",
     "text": [
      "10 * 0 = 0\n",
      "10 * 1 = 10\n",
      "10 * 2 = 20\n",
      "10 * 3 = 30\n",
      "10 * 4 = 40\n",
      "10 * 5 = 50\n",
      "10 * 6 = 60\n",
      "10 * 7 = 70\n",
      "10 * 8 = 80\n",
      "10 * 9 = 90\n"
     ]
    }
   ],
   "source": [
    "\n",
    "n = int(input(\"enter your nuumber\"))\n",
    "for i in range(10):\n",
    "    result = i*n\n",
    "    print(n,\"*\" , i,\"=\" , result)\n",
    "    i = i+1\n",
    "    "
   ]
  },
  {
   "cell_type": "code",
   "execution_count": 32,
   "id": "76f965d3-510d-416c-995d-379368753e40",
   "metadata": {},
   "outputs": [
    {
     "name": "stdin",
     "output_type": "stream",
     "text": [
      "enter your nuumber 27\n"
     ]
    },
    {
     "name": "stdout",
     "output_type": "stream",
     "text": [
      "27 * 1 = 27\n",
      "27 * 2 = 54\n",
      "27 * 3 = 81\n",
      "27 * 4 = 108\n",
      "27 * 5 = 135\n",
      "27 * 6 = 162\n",
      "27 * 7 = 189\n",
      "27 * 8 = 216\n",
      "27 * 9 = 243\n",
      "27 * 10 = 270\n",
      "27 * 11 = 297\n",
      "27 * 12 = 324\n",
      "27 * 13 = 351\n",
      "27 * 14 = 378\n",
      "27 * 15 = 405\n"
     ]
    }
   ],
   "source": [
    "n = int(input(\"enter your nuumber\"))\n",
    "i = 1\n",
    "while i <= 15:\n",
    "    result = n*i\n",
    "    print(n,\"*\" , i,\"=\" , result)\n",
    "    i = i+1\n",
    "    \n"
   ]
  },
  {
   "cell_type": "code",
   "execution_count": 39,
   "id": "12f77e92-3e0c-483c-9b57-01cb0cf2169e",
   "metadata": {},
   "outputs": [
    {
     "name": "stdin",
     "output_type": "stream",
     "text": [
      "enter your nuumber 24\n"
     ]
    },
    {
     "name": "stdout",
     "output_type": "stream",
     "text": [
      "24 * 0 = 0\n",
      "24 * 1 = 24\n",
      "24 * 2 = 48\n",
      "24 * 3 = 72\n",
      "24 * 4 = 96\n",
      "24 * 5 = 120\n",
      "24 * 6 = 144\n",
      "24 * 7 = 168\n",
      "24 * 8 = 192\n",
      "24 * 9 = 216\n"
     ]
    }
   ],
   "source": [
    "n = int(input(\"enter your nuumber\"))\n",
    "for i in range(10):\n",
    "    result = n*i\n",
    "    print(n,\"*\" , i,\"=\" , result)\n",
    "    i = i+1\n",
    "    "
   ]
  },
  {
   "cell_type": "code",
   "execution_count": 43,
   "id": "8ce18d16-6e6d-47e9-b047-0f96452226d1",
   "metadata": {},
   "outputs": [
    {
     "name": "stdout",
     "output_type": "stream",
     "text": [
      "1\n",
      "2\n",
      "3\n",
      "4\n",
      "this is will e executed once whilw will execute\n"
     ]
    }
   ],
   "source": [
    "n = 5\n",
    "i =1\n",
    "while i < n:\n",
    "    print(i)\n",
    "    i = i+1\n",
    "else:\n",
    "    print(\"this is will e executed once whilw will execute\")\n",
    "    "
   ]
  },
  {
   "cell_type": "markdown",
   "id": "9373721a-2d81-4d03-84c0-288a5cd5b9a1",
   "metadata": {},
   "source": [
    "#comprehenstion"
   ]
  },
  {
   "cell_type": "code",
   "execution_count": 45,
   "id": "302fd865-dcb3-4bc5-b16c-600fc01b9d69",
   "metadata": {},
   "outputs": [],
   "source": [
    "l = [1,2,3,4,45,5]\n",
    "l1 = []\n",
    "for i in l :\n",
    "    l1.append(i**2)"
   ]
  },
  {
   "cell_type": "markdown",
   "id": "64f8671f-02f4-471f-91c7-6be3ca81a746",
   "metadata": {},
   "source": [
    "l1"
   ]
  },
  {
   "cell_type": "code",
   "execution_count": 46,
   "id": "56677a4b-f6da-41d2-a6c3-bacf9e3f845f",
   "metadata": {},
   "outputs": [
    {
     "data": {
      "text/plain": [
       "[1, 4, 9, 16, 2025, 25]"
      ]
     },
     "execution_count": 46,
     "metadata": {},
     "output_type": "execute_result"
    }
   ],
   "source": [
    "l1"
   ]
  },
  {
   "cell_type": "code",
   "execution_count": 47,
   "id": "0c5b0dc1-a31d-4c3d-b646-3290bd6e2ded",
   "metadata": {},
   "outputs": [
    {
     "data": {
      "text/plain": [
       "[1, 2, 3, 4, 45, 5]"
      ]
     },
     "execution_count": 47,
     "metadata": {},
     "output_type": "execute_result"
    }
   ],
   "source": [
    "l"
   ]
  },
  {
   "cell_type": "code",
   "execution_count": 48,
   "id": "cc8fb036-4efd-4f92-8071-5f175d3a66c4",
   "metadata": {},
   "outputs": [
    {
     "data": {
      "text/plain": [
       "[1, 4, 9, 16, 2025, 25]"
      ]
     },
     "execution_count": 48,
     "metadata": {},
     "output_type": "execute_result"
    }
   ],
   "source": [
    "[i**2 for i in l]"
   ]
  },
  {
   "cell_type": "code",
   "execution_count": 49,
   "id": "0f68f9fd-bed8-4d49-8ebe-d4a7fdb61d09",
   "metadata": {},
   "outputs": [
    {
     "data": {
      "text/plain": [
       "[2, 4]"
      ]
     },
     "execution_count": 49,
     "metadata": {},
     "output_type": "execute_result"
    }
   ],
   "source": [
    "# Even \n",
    "[i for i in l if i % 2==0]\n"
   ]
  },
  {
   "cell_type": "code",
   "execution_count": 50,
   "id": "5eac8f64-e5a3-4443-b30d-1614ca601334",
   "metadata": {},
   "outputs": [],
   "source": [
    "l1 = [\"sanskar\" , \"data science\" , \"dbms\" , \"sidhant\"]"
   ]
  },
  {
   "cell_type": "code",
   "execution_count": 51,
   "id": "8403b0b2-bc13-4d46-9f27-bb1460e16b48",
   "metadata": {},
   "outputs": [
    {
     "data": {
      "text/plain": [
       "['SANSKAR', 'DATA SCIENCE', 'DBMS', 'SIDHANT']"
      ]
     },
     "execution_count": 51,
     "metadata": {},
     "output_type": "execute_result"
    }
   ],
   "source": [
    "[i.upper() for i in l1]"
   ]
  },
  {
   "cell_type": "markdown",
   "id": "ca7955e0-954e-4490-81cc-b8aaf5e8ad6a",
   "metadata": {},
   "source": [
    "#DICTIONARY COMP."
   ]
  },
  {
   "cell_type": "code",
   "execution_count": 53,
   "id": "91e674e3-b938-49fd-bbe4-0ea920feb635",
   "metadata": {},
   "outputs": [
    {
     "data": {
      "text/plain": [
       "[1, 2, 3, 4, 45, 5]"
      ]
     },
     "execution_count": 53,
     "metadata": {},
     "output_type": "execute_result"
    }
   ],
   "source": [
    "l"
   ]
  },
  {
   "cell_type": "code",
   "execution_count": 54,
   "id": "732e3a19-6573-4db2-9522-61440346074e",
   "metadata": {},
   "outputs": [
    {
     "data": {
      "text/plain": [
       "[1, 4, 9, 16, 2025, 25]"
      ]
     },
     "execution_count": 54,
     "metadata": {},
     "output_type": "execute_result"
    }
   ],
   "source": [
    "list(i**2 for i in l )"
   ]
  },
  {
   "cell_type": "code",
   "execution_count": 55,
   "id": "d04a1a4b-d4ea-4a28-a912-9a512b3001f3",
   "metadata": {},
   "outputs": [],
   "source": [
    "d = {\"key1\" :1 , \"key2\" :2 , \"key3\":3 ,\"key4\" :4}"
   ]
  },
  {
   "cell_type": "code",
   "execution_count": 56,
   "id": "733bf864-10e9-480f-a87d-cec7f11d4d71",
   "metadata": {},
   "outputs": [
    {
     "data": {
      "text/plain": [
       "{'key1': 1, 'key2': 4, 'key3': 9, 'key4': 16}"
      ]
     },
     "execution_count": 56,
     "metadata": {},
     "output_type": "execute_result"
    }
   ],
   "source": [
    "{k:v**2 for k , v in d.items()}"
   ]
  },
  {
   "cell_type": "code",
   "execution_count": 57,
   "id": "1b084e0d-4e94-427a-b0a1-d5475631765c",
   "metadata": {},
   "outputs": [
    {
     "data": {
      "text/plain": [
       "dict_items([('key1', 1), ('key2', 2), ('key3', 3), ('key4', 4)])"
      ]
     },
     "execution_count": 57,
     "metadata": {},
     "output_type": "execute_result"
    }
   ],
   "source": [
    "d.items()"
   ]
  },
  {
   "cell_type": "code",
   "execution_count": 58,
   "id": "b2e13092-eb9f-455f-b213-fd9da8484dfe",
   "metadata": {},
   "outputs": [
    {
     "data": {
      "text/plain": [
       "{'key1': 1, 'key2': 2, 'key3': 3, 'key4': 4}"
      ]
     },
     "execution_count": 58,
     "metadata": {},
     "output_type": "execute_result"
    }
   ],
   "source": [
    "d"
   ]
  },
  {
   "cell_type": "code",
   "execution_count": 59,
   "id": "6e15bcbf-c8b2-4007-9821-e4ca345557c7",
   "metadata": {},
   "outputs": [
    {
     "data": {
      "text/plain": [
       "{'key2': 2, 'key3': 3, 'key4': 4}"
      ]
     },
     "execution_count": 59,
     "metadata": {},
     "output_type": "execute_result"
    }
   ],
   "source": [
    "{k : v for k , v in d.items() if v > 1 }"
   ]
  },
  {
   "cell_type": "code",
   "execution_count": null,
   "id": "e7c283f1-b425-4b4b-8a9e-ae1fe8f6581b",
   "metadata": {},
   "outputs": [],
   "source": []
  }
 ],
 "metadata": {
  "kernelspec": {
   "display_name": "Python 3 (ipykernel)",
   "language": "python",
   "name": "python3"
  },
  "language_info": {
   "codemirror_mode": {
    "name": "ipython",
    "version": 3
   },
   "file_extension": ".py",
   "mimetype": "text/x-python",
   "name": "python",
   "nbconvert_exporter": "python",
   "pygments_lexer": "ipython3",
   "version": "3.10.8"
  }
 },
 "nbformat": 4,
 "nbformat_minor": 5
}
